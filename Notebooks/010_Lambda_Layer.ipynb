{
  "nbformat": 4,
  "nbformat_minor": 0,
  "metadata": {
    "accelerator": "GPU",
    "colab": {
      "name": "010_Lambda_Layer.ipynb",
      "provenance": [],
      "collapsed_sections": [],
      "authorship_tag": "ABX9TyMSvvrfmw2hZTQtJziPimuh",
      "include_colab_link": true
    },
    "kernelspec": {
      "display_name": "Python 3",
      "name": "python3"
    },
    "language_info": {
      "name": "python"
    }
  },
  "cells": [
    {
      "cell_type": "markdown",
      "metadata": {
        "id": "view-in-github",
        "colab_type": "text"
      },
      "source": [
        "<a href=\"https://colab.research.google.com/github/GitMarco27/TMML/blob/main/Notebooks/010_Lambda_Layer.ipynb\" target=\"_parent\"><img src=\"https://colab.research.google.com/assets/colab-badge.svg\" alt=\"Open In Colab\"/></a>"
      ]
    },
    {
      "cell_type": "markdown",
      "metadata": {
        "id": "cG_fLgb6C1tf"
      },
      "source": [
        "# 3 Minutes Machine Learning\n",
        "## Episode 10: Lambda Layer\n",
        "\n",
        "#### Marco Sanguineti, 2021\n",
        "---\n",
        "Welcome to 3 minutes Machine Learning!"
      ]
    },
    {
      "cell_type": "code",
      "metadata": {
        "id": "mSoTlTKwZwnL"
      },
      "source": [
        "import tensorflow as tf\n",
        "import pandas as pd\n",
        "import seaborn as sns\n",
        "import matplotlib.pyplot as plt"
      ],
      "execution_count": 1,
      "outputs": []
    },
    {
      "cell_type": "code",
      "metadata": {
        "id": "UDz7BaSUakRm"
      },
      "source": [
        "print(tf.__version__)"
      ],
      "execution_count": null,
      "outputs": []
    },
    {
      "cell_type": "code",
      "metadata": {
        "id": "VksvMLmpC7n9"
      },
      "source": [
        "import os\n",
        "def loadThumb(path):\n",
        "  # Let's import this video thumbnail!\n",
        "  if os.path.exists(path):\n",
        "    myThumb = plt.imread(path)\n",
        "    fig, ax = plt.subplots(figsize=(15, 10))\n",
        "    plt.axis('off')\n",
        "    ax.imshow(myThumb)\n",
        "    plt.show()\n",
        "\n",
        "loadThumb('/tmp/yt_thumb_010.png')\n"
      ],
      "execution_count": 3,
      "outputs": []
    },
    {
      "cell_type": "markdown",
      "metadata": {
        "id": "Y5HhwZm0DETT"
      },
      "source": [
        "#### Video Topics\n",
        "> 1. Load the fashion MNIST dataset\n",
        "> 2. Create a model with the keras API with a lambda layer for normalization\n",
        "> 3. Train the model and check the results\n",
        "> 4. See you on next video! "
      ]
    },
    {
      "cell_type": "markdown",
      "metadata": {
        "id": "p1XK0dMeD_RI"
      },
      "source": [
        "# Load the dataset\n",
        "___"
      ]
    },
    {
      "cell_type": "code",
      "metadata": {
        "id": "Tuwrg8aoauey"
      },
      "source": [
        "fashion_mnist = tf.keras.datasets.fashion_mnist\n",
        "(train_images, train_labels), (test_images, test_labels) = fashion_mnist.load_data()"
      ],
      "execution_count": null,
      "outputs": []
    },
    {
      "cell_type": "code",
      "metadata": {
        "id": "JabO52u-HbGW"
      },
      "source": [
        "class_names = ['T-shirt/top', 'Trouser', 'Pullover', 'Dress', 'Coat',\n",
        "               'Sandal', 'Shirt', 'Sneaker', 'Bag', 'Ankle boot']\n",
        "class_names"
      ],
      "execution_count": null,
      "outputs": []
    },
    {
      "cell_type": "code",
      "metadata": {
        "id": "FvLif9BIGuG-"
      },
      "source": [
        "def plot_my_image(image):\n",
        "  plt.figure()\n",
        "  plt.imshow(image)\n",
        "  plt.colorbar()\n",
        "  plt.grid(False)\n",
        "  plt.show()\n",
        "\n",
        "def plot_images(images):\n",
        "  plt.figure(figsize=(10,10))\n",
        "  for i in range(25):\n",
        "      plt.subplot(5,5,i+1)\n",
        "      plt.xticks([])\n",
        "      plt.yticks([])\n",
        "      plt.grid(False)\n",
        "      plt.imshow(images[i], cmap=plt.cm.binary)\n",
        "      plt.xlabel(class_names[train_labels[i]])\n",
        "  plt.show()"
      ],
      "execution_count": 6,
      "outputs": []
    },
    {
      "cell_type": "code",
      "metadata": {
        "id": "iOBgjgHnGh1Q"
      },
      "source": [
        "plot_my_image(train_images[22])"
      ],
      "execution_count": null,
      "outputs": []
    },
    {
      "cell_type": "code",
      "metadata": {
        "id": "DlTkhMSbHBlg"
      },
      "source": [
        "plot_images(train_images)"
      ],
      "execution_count": null,
      "outputs": []
    },
    {
      "cell_type": "markdown",
      "metadata": {
        "id": "5ik1Qq0WED2r"
      },
      "source": [
        "# Create the model\n",
        "___"
      ]
    },
    {
      "cell_type": "code",
      "metadata": {
        "id": "qrDJbNoZltFg"
      },
      "source": [
        "from tensorflow.keras.layers import Dense, Input, Lambda, Flatten, Conv2D, MaxPool2D\n",
        "from tensorflow.keras.models import Model\n",
        "from tensorflow.keras.optimizers import Adam\n",
        "from tensorflow.keras.layers import Layer"
      ],
      "execution_count": 9,
      "outputs": []
    },
    {
      "cell_type": "code",
      "metadata": {
        "id": "dvZim7NkIarK"
      },
      "source": [
        "print(f'Images Shape: {train_images[0].shape}')\n",
        "print(f'Num. of classes: {len(set(train_labels))}')"
      ],
      "execution_count": null,
      "outputs": []
    },
    {
      "cell_type": "code",
      "metadata": {
        "id": "pvMYxPnpmUik"
      },
      "source": [
        "input_data = Input(shape=(train_images[0].shape), name='Input')\n",
        "\n",
        "normalization = Lambda(lambda x: x / 255.0)(input_data)\n",
        "\n",
        "flatten = Flatten()(normalization)\n",
        "dense = Dense(64, activation='relu')(flatten)\n",
        "output = Dense(len(set(train_labels)), name='output', activation='softmax')(dense)\n",
        "model = Model(input_data, output)\n",
        "model.compile(optimizer=Adam(learning_rate=0.001),\n",
        "              loss=tf.keras.losses.SparseCategoricalCrossentropy(),\n",
        "              metrics=['accuracy'])\n",
        "model.summary()"
      ],
      "execution_count": null,
      "outputs": []
    },
    {
      "cell_type": "code",
      "metadata": {
        "id": "MsP5J3gGEM9l"
      },
      "source": [
        "tf.keras.utils.plot_model(\n",
        "    model, to_file='model.png', show_shapes=True, show_dtype=True,\n",
        "    show_layer_names=True, rankdir='TB', expand_nested=False, dpi=96\n",
        ")"
      ],
      "execution_count": null,
      "outputs": []
    },
    {
      "cell_type": "markdown",
      "metadata": {
        "id": "wNItDf_LESUC"
      },
      "source": [
        "# Train and check the results\n",
        "___"
      ]
    },
    {
      "cell_type": "code",
      "metadata": {
        "id": "RCAgZCI1UOig"
      },
      "source": [
        "model.layers"
      ],
      "execution_count": null,
      "outputs": []
    },
    {
      "cell_type": "code",
      "metadata": {
        "id": "0dTCj5tupTZ-"
      },
      "source": [
        "history = model.fit(\n",
        "    train_images,\n",
        "    train_labels,\n",
        "    batch_size = 256,\n",
        "    epochs=40,\n",
        "    validation_data=(test_images,\n",
        "                     test_labels))"
      ],
      "execution_count": null,
      "outputs": []
    },
    {
      "cell_type": "code",
      "metadata": {
        "id": "MBttLuuBsLWO"
      },
      "source": [
        "loss = history.history['loss']\n",
        "val_loss = history.history['val_loss']\n",
        "accuracy = history.history['accuracy']\n",
        "val_accuracy = history.history['val_accuracy']\n",
        "fig, ax = plt.subplots(figsize=(8, 6))\n",
        "plt.plot(loss, label='loss')\n",
        "plt.plot(val_loss, label = 'val loss')\n",
        "plt.plot(accuracy, label='accuracy')\n",
        "plt.plot(val_accuracy, label='val accuracy')\n",
        "plt.grid('both')\n",
        "plt.xlabel('Epochs')\n",
        "plt.ylabel('Loss Function')\n",
        "plt.title('Loss Function trend')\n",
        "plt.legend()\n",
        "plt.show()"
      ],
      "execution_count": null,
      "outputs": []
    },
    {
      "cell_type": "code",
      "metadata": {
        "id": "dnzCljI5MVAX"
      },
      "source": [
        "input_data = Input(shape=(*train_images[0].shape,), name='Input')\n",
        "\n",
        "normalization = Lambda(lambda x: x / 255.0)(input_data)\n",
        "\n",
        "expand = Lambda(lambda x: tf.expand_dims(x, -1))(normalization)\n",
        "\n",
        "conv_1 = Conv2D(64, (3, 3), activation='relu')(expand)\n",
        "max_pool_1 = MaxPool2D(2, 2)(conv_1)\n",
        "conv_2 = Conv2D(64, (3, 3), activation='relu')(max_pool_1)\n",
        "max_pool_2 = MaxPool2D(2, 2)(conv_2)\n",
        "flatten = Flatten()(max_pool_2)\n",
        "output = Dense(len(set(train_labels)), name='output', activation='softmax')(flatten)\n",
        "model = Model(input_data, output)\n",
        "model.compile(optimizer=Adam(learning_rate=0.001),\n",
        "              loss=tf.keras.losses.SparseCategoricalCrossentropy(),\n",
        "              metrics=['accuracy'])\n",
        "model.summary()"
      ],
      "execution_count": null,
      "outputs": []
    },
    {
      "cell_type": "code",
      "metadata": {
        "id": "nYK1fWF9NnI5"
      },
      "source": [
        "tf.keras.utils.plot_model(\n",
        "    model, to_file='model.png', show_shapes=True, show_dtype=True,\n",
        "    show_layer_names=True, rankdir='TB', expand_nested=False, dpi=96\n",
        ")"
      ],
      "execution_count": null,
      "outputs": []
    },
    {
      "cell_type": "code",
      "metadata": {
        "id": "fYVKz4GbNqFk"
      },
      "source": [
        "history = model.fit(\n",
        "    train_images,\n",
        "    train_labels,\n",
        "    batch_size = 256,\n",
        "    epochs=40,\n",
        "    validation_data=(test_images,\n",
        "                     test_labels))"
      ],
      "execution_count": null,
      "outputs": []
    },
    {
      "cell_type": "code",
      "metadata": {
        "id": "d1ZC6VLEPMJo"
      },
      "source": [
        "loss = history.history['loss']\n",
        "val_loss = history.history['val_loss']\n",
        "accuracy = history.history['accuracy']\n",
        "val_accuracy = history.history['val_accuracy']\n",
        "fig, ax = plt.subplots(figsize=(8, 6))\n",
        "plt.plot(loss, label='loss')\n",
        "plt.plot(val_loss, label = 'val loss')\n",
        "plt.plot(accuracy, label='accuracy')\n",
        "plt.plot(val_accuracy, label='val accuracy')\n",
        "plt.grid('both')\n",
        "plt.xlabel('Epochs')\n",
        "plt.ylabel('Loss Function')\n",
        "plt.title('Loss Function trend')\n",
        "plt.legend()\n",
        "plt.show()\n"
      ],
      "execution_count": null,
      "outputs": []
    },
    {
      "cell_type": "code",
      "metadata": {
        "id": "7xbQUzwTQ_zK"
      },
      "source": [
        "model.predict((tf.expand_dims(train_images[0], axis=0)))"
      ],
      "execution_count": null,
      "outputs": []
    },
    {
      "cell_type": "code",
      "metadata": {
        "id": "pB0CB0PcSWJG"
      },
      "source": [
        "def plot_image(i, predictions_array, true_label, img):\n",
        "  true_label, img = true_label[i], img[i]\n",
        "  plt.grid(False)\n",
        "  plt.xticks([])\n",
        "  plt.yticks([])\n",
        "\n",
        "  plt.imshow(img, cmap=plt.cm.binary)\n",
        "\n",
        "  predicted_label = np.argmax(predictions_array)\n",
        "  if predicted_label == true_label:\n",
        "    color = 'blue'\n",
        "  else:\n",
        "    color = 'red'\n",
        "\n",
        "  plt.xlabel(\"{} {:2.0f}% ({})\".format(class_names[predicted_label],\n",
        "                                100*np.max(predictions_array),\n",
        "                                class_names[true_label]),\n",
        "                                color=color)\n",
        "\n",
        "def plot_value_array(i, predictions_array, true_label):\n",
        "  true_label = true_label[i]\n",
        "  plt.grid(False)\n",
        "  plt.xticks(range(10))\n",
        "  plt.yticks([])\n",
        "  thisplot = plt.bar(range(10), predictions_array, color=\"#777777\")\n",
        "  plt.ylim([0, 1])\n",
        "  predicted_label = np.argmax(predictions_array)\n",
        "\n",
        "  thisplot[predicted_label].set_color('red')\n",
        "  thisplot[true_label].set_color('blue')"
      ],
      "execution_count": 21,
      "outputs": []
    },
    {
      "cell_type": "code",
      "metadata": {
        "id": "YF5Ho6NvSXGs"
      },
      "source": [
        "import numpy as np\n",
        "predictions = model.predict(test_images)\n",
        "num_rows = 5\n",
        "num_cols = 3\n",
        "num_images = num_rows*num_cols\n",
        "plt.figure(figsize=(2*2*num_cols, 2*num_rows))\n",
        "for i in range(num_images):\n",
        "  plt.subplot(num_rows, 2*num_cols, 2*i+1)\n",
        "  plot_image(i, predictions[i], test_labels, test_images)\n",
        "  plt.subplot(num_rows, 2*num_cols, 2*i+2)\n",
        "  plot_value_array(i, predictions[i], test_labels)\n",
        "plt.tight_layout()\n",
        "plt.show()"
      ],
      "execution_count": null,
      "outputs": []
    },
    {
      "cell_type": "markdown",
      "metadata": {
        "id": "x12mGu0LF-AH"
      },
      "source": [
        "# Greetings\n",
        "---"
      ]
    },
    {
      "cell_type": "code",
      "metadata": {
        "id": "xgWUckLSF7wj"
      },
      "source": [
        "!pip install art\n",
        "from art import tprint, aprint\n",
        "tprint('See you on next videos!')\n",
        "def subscribe():\n",
        "  \"\"\"\n",
        "  Attractive subscription form\n",
        "  \"\"\"\n",
        "  aprint(\"giveme\", number=5)\n",
        "  print(f'\\n\\tLike and subscribe to support this work!\\n')\n",
        "  aprint(\"giveme\", number=5)\n",
        "subscribe()"
      ],
      "execution_count": null,
      "outputs": []
    }
  ]
}