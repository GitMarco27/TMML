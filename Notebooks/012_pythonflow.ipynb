{
  "nbformat": 4,
  "nbformat_minor": 0,
  "metadata": {
    "colab": {
      "name": "012_pythonflow.ipynb",
      "provenance": [],
      "collapsed_sections": [],
      "include_colab_link": true
    },
    "kernelspec": {
      "name": "python3",
      "display_name": "Python 3"
    },
    "language_info": {
      "name": "python"
    }
  },
  "cells": [
    {
      "cell_type": "markdown",
      "metadata": {
        "id": "view-in-github",
        "colab_type": "text"
      },
      "source": [
        "<a href=\"https://colab.research.google.com/github/GitMarco27/TMML/blob/main/Notebooks/012_pythonflow.ipynb\" target=\"_parent\"><img src=\"https://colab.research.google.com/assets/colab-badge.svg\" alt=\"Open In Colab\"/></a>"
      ]
    },
    {
      "cell_type": "markdown",
      "source": [
        "# 3 Minutes Machine Learning\n",
        "## Episode 12: Pythonflow: from eager to graph python programming\n",
        "\n",
        "#### Marco Sanguineti, 2021\n",
        "---\n",
        "Welcome to 3 minutes Machine Learning!"
      ],
      "metadata": {
        "id": "mcd_NbOtQtRY"
      }
    },
    {
      "cell_type": "code",
      "execution_count": 32,
      "metadata": {
        "id": "rIElMyxhsafK"
      },
      "outputs": [],
      "source": [
        "! pip install pythonflow -U -q"
      ]
    },
    {
      "cell_type": "code",
      "source": [
        "import tensorflow as tf\n",
        "import pythonflow as pf\n",
        "import numpy as np"
      ],
      "metadata": {
        "id": "rmGdY_S4207k"
      },
      "execution_count": 33,
      "outputs": []
    },
    {
      "cell_type": "markdown",
      "source": [
        "# TensorflowGraph"
      ],
      "metadata": {
        "id": "dKCKJF9N274Z"
      }
    },
    {
      "cell_type": "code",
      "source": [
        "class AddLayerOperation(pf.Operation):\n",
        "    def __init__(self, model,  type_layers, num_nodes, activation):\n",
        "        super(AddLayerOperation, self).__init__(model, type_layers, num_nodes, activation)\n",
        "\n",
        "\n",
        "    def _evaluate(self, model, type_layers, num_nodes, activation):\n",
        "        if type_layers=='Dense':\n",
        "          new_layer = tf.keras.layers.Dense(num_nodes, activation=activation)\n",
        "\n",
        "        model.add(new_layer)\n",
        "        return model\n",
        "\n",
        "class CompileOperation(pf.Operation):\n",
        "    def __init__(self, model, number_name):\n",
        "        super(CompileOperation, self).__init__(model, name='CompileOperation'+number_name)\n",
        "\n",
        "    def _evaluate(self, model):\n",
        "        model.compile(optimizer='adam', loss='mse')\n",
        "        return model\n",
        "\n",
        "class TrainOperation(pf.Operation):\n",
        "    def __init__(self, model, epochs, batch_size, X, y):\n",
        "        super(TrainOperation, self).__init__(model, epochs, batch_size,  X, y, name='TrainModel')\n",
        "\n",
        "    def _evaluate(self, model,X, y,  epochs,batch_size):\n",
        "        history = model.fit(X, y, epochs=epochs, batch_size=batch_size)\n",
        "        return model, history\n",
        "\n",
        "with pf.Graph() as graphadd:\n",
        "    a = pf.constant(4)\n",
        "    b = pf.constant(38)\n",
        "    x = (a + b).set_name('x')\n",
        "\n",
        "with pf.Graph() as graph:\n",
        "    num_nodes = pf.placeholder(name=\"num_nodes\")\n",
        "    activation = pf.placeholder(name=\"activation\")\n",
        "    type_layers = pf.placeholder(name=\"type_layers\")\n",
        "    epochs = pf.placeholder(name=\"epochs\")\n",
        "    batch_size = pf.placeholder(name=\"batch_size\")\n",
        "\n",
        "    input_layer = pf.func_op(tf.keras.Input, [graphadd('x')])\n",
        "    model = pf.func_op(tf.keras.models.Sequential, [input_layer], name='model')\n",
        "\n",
        "    model_graph = AddLayerOperation(model, type_layers, num_nodes, activation)\n",
        "    model_graph1 = AddLayerOperation(model_graph, type_layers, num_nodes, activation)\n",
        "    model_graph2 = AddLayerOperation(model_graph1, type_layers, num_nodes, activation)\n",
        "    model_graph_compile1 = CompileOperation(model_graph2, number_name='1')\n",
        "\n",
        "    X = pf.func_op(np.random.rand, *[100, graphadd('x')])\n",
        "    y = pf.func_op(np.random.rand, *(100, 10))\n",
        "\n",
        "    model_trained = TrainOperation(model_graph_compile1, X, y, epochs, batch_size)\n",
        "\n",
        "\n",
        "model = graph(model_graph_compile1 , num_nodes=10, activation='relu', type_layers='Dense', \n",
        "               batch_size= 16, epochs=5)\n",
        "\n",
        "model.summary()"
      ],
      "metadata": {
        "colab": {
          "base_uri": "https://localhost:8080/"
        },
        "id": "dpUZu9ea27px",
        "outputId": "d1e46344-e121-41dc-fb3b-2591b5c42d7e"
      },
      "execution_count": 34,
      "outputs": [
        {
          "output_type": "stream",
          "name": "stdout",
          "text": [
            "Model: \"sequential_9\"\n",
            "_________________________________________________________________\n",
            " Layer (type)                Output Shape              Param #   \n",
            "=================================================================\n",
            " dense_27 (Dense)            (None, 10)                430       \n",
            "                                                                 \n",
            " dense_28 (Dense)            (None, 10)                110       \n",
            "                                                                 \n",
            " dense_29 (Dense)            (None, 10)                110       \n",
            "                                                                 \n",
            "=================================================================\n",
            "Total params: 650\n",
            "Trainable params: 650\n",
            "Non-trainable params: 0\n",
            "_________________________________________________________________\n"
          ]
        }
      ]
    },
    {
      "cell_type": "code",
      "source": [
        "model, history = graph(model_trained , num_nodes=10, activation='relu', type_layers='Dense',\n",
        "                       batch_size= 16, epochs=5)"
      ],
      "metadata": {
        "colab": {
          "base_uri": "https://localhost:8080/"
        },
        "id": "gIMsilE4RupB",
        "outputId": "31fa1f53-ee25-4f06-9ddb-aa7482db339f"
      },
      "execution_count": 35,
      "outputs": [
        {
          "output_type": "stream",
          "name": "stdout",
          "text": [
            "Epoch 1/5\n",
            "7/7 [==============================] - 0s 5ms/step - loss: 0.2173\n",
            "Epoch 2/5\n",
            "7/7 [==============================] - 0s 3ms/step - loss: 0.2011\n",
            "Epoch 3/5\n",
            "7/7 [==============================] - 0s 3ms/step - loss: 0.1940\n",
            "Epoch 4/5\n",
            "7/7 [==============================] - 0s 3ms/step - loss: 0.1886\n",
            "Epoch 5/5\n",
            "7/7 [==============================] - 0s 2ms/step - loss: 0.1836\n"
          ]
        }
      ]
    },
    {
      "cell_type": "code",
      "source": [
        "import time\n",
        "def create_graph(num_nodes=10, activation='relu', type_layers='Dense',batch_size= 16, epochs=5 ): \n",
        "  models = graph(model_trained, num_nodes=num_nodes, activation=activation, type_layers=type_layers, \n",
        "                 batch_size= batch_size, epochs=epochs)\n",
        "  return models"
      ],
      "metadata": {
        "id": "E08jOB_8xE8p"
      },
      "execution_count": 36,
      "outputs": []
    },
    {
      "cell_type": "code",
      "source": [
        "import pickle \n",
        "\n",
        "with open(\"custom_graph\", 'wb') as f:\n",
        "  pickle.dump(graph, f)"
      ],
      "metadata": {
        "id": "ruxitAMf81JW"
      },
      "execution_count": 37,
      "outputs": []
    },
    {
      "cell_type": "code",
      "source": [
        "with open(\"custom_graph\", 'rb') as f:\n",
        "  new_graph = pickle.load(f)\n",
        "\n",
        "del model\n",
        "model, history = new_graph('TrainModel', num_nodes=10, activation='selu', type_layers='Dense',\n",
        "                           batch_size= 16, epochs=5)\n",
        "model.summary()\n"
      ],
      "metadata": {
        "colab": {
          "base_uri": "https://localhost:8080/"
        },
        "id": "1RyVy4ol89mj",
        "outputId": "5773428e-036a-43e7-bafa-b2f08f07ec43"
      },
      "execution_count": 38,
      "outputs": [
        {
          "output_type": "stream",
          "name": "stdout",
          "text": [
            "Epoch 1/5\n",
            "7/7 [==============================] - 0s 2ms/step - loss: 0.8081\n",
            "Epoch 2/5\n",
            "7/7 [==============================] - 0s 2ms/step - loss: 0.5746\n",
            "Epoch 3/5\n",
            "7/7 [==============================] - 0s 2ms/step - loss: 0.4853\n",
            "Epoch 4/5\n",
            "7/7 [==============================] - 0s 5ms/step - loss: 0.4442\n",
            "Epoch 5/5\n",
            "7/7 [==============================] - 0s 3ms/step - loss: 0.4065\n",
            "Model: \"sequential_11\"\n",
            "_________________________________________________________________\n",
            " Layer (type)                Output Shape              Param #   \n",
            "=================================================================\n",
            " dense_33 (Dense)            (None, 10)                430       \n",
            "                                                                 \n",
            " dense_34 (Dense)            (None, 10)                110       \n",
            "                                                                 \n",
            " dense_35 (Dense)            (None, 10)                110       \n",
            "                                                                 \n",
            "=================================================================\n",
            "Total params: 650\n",
            "Trainable params: 650\n",
            "Non-trainable params: 0\n",
            "_________________________________________________________________\n"
          ]
        }
      ]
    },
    {
      "cell_type": "code",
      "source": [
        "vars(new_graph).keys()"
      ],
      "metadata": {
        "colab": {
          "base_uri": "https://localhost:8080/"
        },
        "id": "LOaNh399_kb9",
        "outputId": "ece0dd1d-ac9a-4b3f-f785-08110346b8d3"
      },
      "execution_count": 39,
      "outputs": [
        {
          "output_type": "execute_result",
          "data": {
            "text/plain": [
              "dict_keys(['operations', 'dependencies'])"
            ]
          },
          "metadata": {},
          "execution_count": 39
        }
      ]
    },
    {
      "cell_type": "code",
      "source": [
        "print(new_graph.operations)\n",
        "print(new_graph.dependencies)"
      ],
      "metadata": {
        "colab": {
          "base_uri": "https://localhost:8080/"
        },
        "id": "Wr9RcmWzGIu-",
        "outputId": "4e5a3dc7-8bdc-4947-aae2-51141deb900e"
      },
      "execution_count": 40,
      "outputs": [
        {
          "output_type": "stream",
          "name": "stdout",
          "text": [
            "{'num_nodes': <pf.placeholder 'num_nodes'>, 'activation': <pf.placeholder 'activation'>, 'type_layers': <pf.placeholder 'type_layers'>, 'epochs': <pf.placeholder 'epochs'>, 'batch_size': <pf.placeholder 'batch_size'>, '9b632894402c44d8a350599df56d457c': <pf.func_op '9b632894402c44d8a350599df56d457c' target=<function Input at 0x7f2ad5afc9e0> args=<1 items> kwargs=<0 items>>, 'model': <pf.func_op 'model' target=<class 'keras.engine.sequential.Sequential'> args=<1 items> kwargs=<0 items>>, '303900c3a5ee474d9bd5cfc26105225c': <__main__.AddLayerOperation object at 0x7f2b51db8c90>, 'e77a8e676e754bdab36b4325b92b7c2c': <__main__.AddLayerOperation object at 0x7f2b51db8d50>, '427382c0a3aa44268e35c6455e9803f9': <__main__.AddLayerOperation object at 0x7f2b51db8e10>, 'CompileOperation1': <__main__.CompileOperation object at 0x7f2b51db8ed0>, 'd0e3e4b1659d43c5950f0a80db57f846': <pf.func_op 'd0e3e4b1659d43c5950f0a80db57f846' target=<built-in method rand of numpy.random.mtrand.RandomState object at 0x7f2acf08fe20> args=<2 items> kwargs=<0 items>>, '27d988c031754a8aa7f49abb489931c4': <pf.func_op '27d988c031754a8aa7f49abb489931c4' target=<built-in method rand of numpy.random.mtrand.RandomState object at 0x7f2acf08fe20> args=<2 items> kwargs=<0 items>>, 'TrainModel': <__main__.TrainOperation object at 0x7f2b51f39950>}\n",
            "[]\n"
          ]
        }
      ]
    },
    {
      "cell_type": "code",
      "source": [
        "import threading\n",
        "import time\n",
        "import sys\n",
        "import trace\n",
        "import threading\n",
        "import time\n",
        "\n",
        "class thread_with_trace(threading.Thread):\n",
        "  def __init__(self, *args, **keywords):\n",
        "    threading.Thread.__init__(self, *args, **keywords)\n",
        "    self.killed = False\n",
        " \n",
        "  def start(self):\n",
        "    self.__run_backup = self.run\n",
        "    self.run = self.__run     \n",
        "    threading.Thread.start(self)\n",
        " \n",
        "  def __run(self):\n",
        "    sys.settrace(self.globaltrace)\n",
        "    self.__run_backup()\n",
        "    self.run = self.__run_backup\n",
        " \n",
        "  def globaltrace(self, frame, event, arg):\n",
        "    if event == 'call':\n",
        "      return self.localtrace\n",
        "    else:\n",
        "      return None\n",
        " \n",
        "  def localtrace(self, frame, event, arg):\n",
        "    if self.killed:\n",
        "      if event == 'line':\n",
        "        raise SystemExit()\n",
        "    return self.localtrace\n",
        " \n",
        "  def kill(self):\n",
        "    self.killed = True\n",
        "\n",
        "print('Actual count: ', threading.active_count())\n",
        "th = thread_with_trace(target=create_graph, args=[10,'relu', 'Dense', 16, 10])\n",
        "th.start()\n",
        "print('Actual count: ', threading.active_count(), '\\n')\n",
        "time.sleep(10)\n",
        "th.kill()\n",
        "th.join()\n",
        "print('\\n', 'Actual count: ', threading.active_count())"
      ],
      "metadata": {
        "colab": {
          "base_uri": "https://localhost:8080/"
        },
        "id": "HDHr-q5oGuf0",
        "outputId": "a490a01d-7bc4-46a5-e4a4-6c2e55c42d5d"
      },
      "execution_count": 43,
      "outputs": [
        {
          "output_type": "stream",
          "name": "stderr",
          "text": [
            "\n",
            "PYDEV DEBUGGER WARNING:\n",
            "sys.settrace() should not be used when the debugger is being used.\n",
            "This may cause the debugger to stop working correctly.\n",
            "If this is needed, please check: \n",
            "http://pydev.blogspot.com/2007/06/why-cant-pydev-debugger-work-with.html\n",
            "to see how to restore the debug tracing back correctly.\n",
            "Call Location:\n",
            "  File \"<ipython-input-43-fe0ce331204c>\", line 18, in __run\n",
            "    sys.settrace(self.globaltrace)\n",
            "\n"
          ]
        },
        {
          "output_type": "stream",
          "name": "stdout",
          "text": [
            "Actual count:  10\n",
            "Actual count:  11 \n",
            "\n",
            "Epoch 1/10\n",
            "7/7 [==============================] - 1s 4ms/step - loss: 0.2853\n",
            "Epoch 2/10\n",
            "7/7 [==============================] - 0s 4ms/step - loss: 0.2683\n",
            "Epoch 3/10\n",
            "7/7 [==============================] - 0s 4ms/step - loss: 0.2440\n",
            "Epoch 4/10\n",
            "7/7 [==============================] - 0s 4ms/step - loss: 0.2191\n",
            "Epoch 5/10\n",
            "7/7 [==============================] - 0s 4ms/step - loss: 0.2026\n",
            "Epoch 6/10\n",
            "7/7 [==============================] - 0s 4ms/step - loss: 0.1966\n",
            "Epoch 7/10\n",
            "7/7 [==============================] - 0s 4ms/step - loss: 0.1879\n",
            "Epoch 8/10\n",
            "7/7 [==============================] - 0s 4ms/step - loss: 0.1792\n",
            "Epoch 9/10\n",
            "7/7 [==============================] - 0s 4ms/step - loss: 0.1731\n",
            "Epoch 10/10\n",
            "7/7 [==============================] - 0s 4ms/step - loss: 0.1693\n",
            "\n",
            " Actual count:  10\n"
          ]
        }
      ]
    }
  ]
}