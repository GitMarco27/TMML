{
  "nbformat": 4,
  "nbformat_minor": 0,
  "metadata": {
    "colab": {
      "name": "012_pythonflow.ipynb",
      "provenance": [],
      "collapsed_sections": [],
      "include_colab_link": true
    },
    "kernelspec": {
      "name": "python3",
      "display_name": "Python 3"
    },
    "language_info": {
      "name": "python"
    }
  },
  "cells": [
    {
      "cell_type": "markdown",
      "metadata": {
        "id": "view-in-github",
        "colab_type": "text"
      },
      "source": [
        "<a href=\"https://colab.research.google.com/github/GitMarco27/TMML/blob/main/Notebooks/012_pythonflow.ipynb\" target=\"_parent\"><img src=\"https://colab.research.google.com/assets/colab-badge.svg\" alt=\"Open In Colab\"/></a>"
      ]
    },
    {
      "cell_type": "markdown",
      "source": [
        "# 3 Minutes Machine Learning\n",
        "## Episode 12: Pythonflow: from eager to graph python programming\n",
        "\n",
        "#### Marco Sanguineti, 2021\n",
        "---\n",
        "Welcome to 3 minutes Machine Learning!"
      ],
      "metadata": {
        "id": "mcd_NbOtQtRY"
      }
    },
    {
      "cell_type": "code",
      "execution_count": 1,
      "metadata": {
        "id": "rIElMyxhsafK"
      },
      "outputs": [],
      "source": [
        "! pip install pythonflow -U -q"
      ]
    },
    {
      "cell_type": "code",
      "source": [
        "import tensorflow as tf\n",
        "import pythonflow as pf\n",
        "import numpy as np"
      ],
      "metadata": {
        "id": "rmGdY_S4207k"
      },
      "execution_count": 2,
      "outputs": []
    },
    {
      "cell_type": "markdown",
      "source": [
        "# TensorflowGraph"
      ],
      "metadata": {
        "id": "dKCKJF9N274Z"
      }
    },
    {
      "cell_type": "code",
      "source": [
        "class AddLayerOperation(pf.Operation):\n",
        "    def __init__(self, model,  type_layers, num_nodes, activation):\n",
        "        super(AddLayerOperation, self).__init__(model, type_layers, num_nodes, activation)\n",
        "\n",
        "\n",
        "    def _evaluate(self, model, type_layers, num_nodes, activation):\n",
        "        if type_layers=='Dense':\n",
        "          new_layer = tf.keras.layers.Dense(num_nodes, activation=activation)\n",
        "\n",
        "        model.add(new_layer)\n",
        "        return model\n",
        "\n",
        "class CompileOperation(pf.Operation):\n",
        "    def __init__(self, model, number_name):\n",
        "        super(CompileOperation, self).__init__(model, name='CompileOperation'+number_name)\n",
        "\n",
        "    def _evaluate(self, model):\n",
        "        model.compile(optimizer='adam', loss='mse')\n",
        "        return model\n",
        "\n",
        "class TrainOperation(pf.Operation):\n",
        "    def __init__(self, model, epochs, batch_size, X, y):\n",
        "        super(TrainOperation, self).__init__(model, epochs, batch_size,  X, y, name='TrainModel')\n",
        "\n",
        "    def _evaluate(self, model,X, y,  epochs,batch_size):\n",
        "        history = model.fit(X, y, epochs=epochs, batch_size=batch_size)\n",
        "        return model, history\n",
        "\n",
        "with pf.Graph() as graphadd:\n",
        "    a = pf.constant(4)\n",
        "    b = pf.constant(38)\n",
        "    x = (a + b).set_name('x')\n",
        "\n",
        "with pf.Graph() as graph:\n",
        "    num_nodes = pf.placeholder(name=\"num_nodes\")\n",
        "    activation = pf.placeholder(name=\"activation\")\n",
        "    type_layers = pf.placeholder(name=\"type_layers\")\n",
        "    epochs = pf.placeholder(name=\"epochs\")\n",
        "    batch_size = pf.placeholder(name=\"batch_size\")\n",
        "\n",
        "    input_layer = pf.func_op(tf.keras.Input, [graphadd('x')])\n",
        "    model = pf.func_op(tf.keras.models.Sequential, [input_layer], name='model')\n",
        "\n",
        "    model_graph = AddLayerOperation(model, type_layers, num_nodes, activation)\n",
        "    model_graph1 = AddLayerOperation(model_graph, type_layers, num_nodes, activation)\n",
        "    model_graph2 = AddLayerOperation(model_graph1, type_layers, num_nodes, activation)\n",
        "    model_graph_compile1 = CompileOperation(model_graph2, number_name='1')\n",
        "\n",
        "    X = pf.func_op(np.random.rand, *[100, 42])\n",
        "    y = pf.func_op(np.random.rand, *(100, 10))\n",
        "\n",
        "    model_trained = TrainOperation(model_graph_compile1, X, y, epochs, batch_size)\n",
        "\n",
        "\n",
        "model = graph(model_graph_compile1 , num_nodes=10, activation='relu', type_layers='Dense', \n",
        "               batch_size= 16, epochs=5)\n",
        "\n",
        "model.summary()"
      ],
      "metadata": {
        "colab": {
          "base_uri": "https://localhost:8080/"
        },
        "id": "dpUZu9ea27px",
        "outputId": "88bd0e96-1428-4b66-ce1a-5721b4e8829f"
      },
      "execution_count": 3,
      "outputs": [
        {
          "output_type": "stream",
          "name": "stdout",
          "text": [
            "Model: \"sequential\"\n",
            "_________________________________________________________________\n",
            " Layer (type)                Output Shape              Param #   \n",
            "=================================================================\n",
            " dense (Dense)               (None, 10)                430       \n",
            "                                                                 \n",
            " dense_1 (Dense)             (None, 10)                110       \n",
            "                                                                 \n",
            " dense_2 (Dense)             (None, 10)                110       \n",
            "                                                                 \n",
            "=================================================================\n",
            "Total params: 650\n",
            "Trainable params: 650\n",
            "Non-trainable params: 0\n",
            "_________________________________________________________________\n"
          ]
        }
      ]
    },
    {
      "cell_type": "code",
      "source": [
        "model, history = graph(model_trained , num_nodes=10, activation='relu', type_layers='Dense',\n",
        "                       batch_size= 16, epochs=5)"
      ],
      "metadata": {
        "colab": {
          "base_uri": "https://localhost:8080/"
        },
        "id": "gIMsilE4RupB",
        "outputId": "9a8067c6-a2a2-4e1a-f3de-37b9f9ed0405"
      },
      "execution_count": 4,
      "outputs": [
        {
          "output_type": "stream",
          "name": "stdout",
          "text": [
            "Epoch 1/5\n",
            "7/7 [==============================] - 1s 3ms/step - loss: 0.2547\n",
            "Epoch 2/5\n",
            "7/7 [==============================] - 0s 2ms/step - loss: 0.2324\n",
            "Epoch 3/5\n",
            "7/7 [==============================] - 0s 2ms/step - loss: 0.2085\n",
            "Epoch 4/5\n",
            "7/7 [==============================] - 0s 3ms/step - loss: 0.1864\n",
            "Epoch 5/5\n",
            "7/7 [==============================] - 0s 3ms/step - loss: 0.1689\n"
          ]
        }
      ]
    },
    {
      "cell_type": "code",
      "source": [
        "import time\n",
        "def crete_graph(num_nodes=10, activation='relu', type_layers='Dense',batch_size= 16, epochs=5 ): \n",
        "  models = graph(model_trained, num_nodes=num_nodes, activation=activation, type_layers=type_layers, \n",
        "                 batch_size= batch_size, epochs=epochs)\n",
        "  return models"
      ],
      "metadata": {
        "id": "E08jOB_8xE8p"
      },
      "execution_count": 5,
      "outputs": []
    },
    {
      "cell_type": "code",
      "source": [
        "import pickle \n",
        "\n",
        "with open(\"ciao\", 'wb') as f:\n",
        "  pickle.dump(graph, f)"
      ],
      "metadata": {
        "id": "ruxitAMf81JW"
      },
      "execution_count": 6,
      "outputs": []
    },
    {
      "cell_type": "code",
      "source": [
        "import pickle \n",
        "\n",
        "with open(\"ciao\", 'rb') as f:\n",
        "  new_graph = pickle.load(f)\n",
        "\n",
        "del model\n",
        "model, history = new_graph('TrainModel', num_nodes=10, activation='selu', type_layers='Dense',\n",
        "                           batch_size= 16, epochs=5)\n",
        "model.summary()\n"
      ],
      "metadata": {
        "colab": {
          "base_uri": "https://localhost:8080/"
        },
        "id": "1RyVy4ol89mj",
        "outputId": "d257716c-ea7c-4ad6-89d5-4897af907c70"
      },
      "execution_count": 7,
      "outputs": [
        {
          "output_type": "stream",
          "name": "stdout",
          "text": [
            "Epoch 1/5\n",
            "7/7 [==============================] - 0s 2ms/step - loss: 0.6942\n",
            "Epoch 2/5\n",
            "7/7 [==============================] - 0s 3ms/step - loss: 0.5277\n",
            "Epoch 3/5\n",
            "7/7 [==============================] - 0s 2ms/step - loss: 0.4164\n",
            "Epoch 4/5\n",
            "7/7 [==============================] - 0s 3ms/step - loss: 0.3284\n",
            "Epoch 5/5\n",
            "7/7 [==============================] - 0s 2ms/step - loss: 0.2756\n",
            "Model: \"sequential_2\"\n",
            "_________________________________________________________________\n",
            " Layer (type)                Output Shape              Param #   \n",
            "=================================================================\n",
            " dense_6 (Dense)             (None, 10)                430       \n",
            "                                                                 \n",
            " dense_7 (Dense)             (None, 10)                110       \n",
            "                                                                 \n",
            " dense_8 (Dense)             (None, 10)                110       \n",
            "                                                                 \n",
            "=================================================================\n",
            "Total params: 650\n",
            "Trainable params: 650\n",
            "Non-trainable params: 0\n",
            "_________________________________________________________________\n"
          ]
        }
      ]
    },
    {
      "cell_type": "code",
      "source": [
        "vars(new_graph).keys()"
      ],
      "metadata": {
        "colab": {
          "base_uri": "https://localhost:8080/"
        },
        "id": "LOaNh399_kb9",
        "outputId": "8533fa7c-95f8-4a21-b151-cb2ad5401af3"
      },
      "execution_count": 8,
      "outputs": [
        {
          "output_type": "execute_result",
          "data": {
            "text/plain": [
              "dict_keys(['operations', 'dependencies'])"
            ]
          },
          "metadata": {},
          "execution_count": 8
        }
      ]
    },
    {
      "cell_type": "code",
      "source": [
        "print(new_graph.operations)\n",
        "print(new_graph.dependencies)"
      ],
      "metadata": {
        "colab": {
          "base_uri": "https://localhost:8080/"
        },
        "id": "Wr9RcmWzGIu-",
        "outputId": "99723340-a1db-4b79-cd59-c0a23884a282"
      },
      "execution_count": 9,
      "outputs": [
        {
          "output_type": "stream",
          "name": "stdout",
          "text": [
            "{'num_nodes': <pf.placeholder 'num_nodes'>, 'activation': <pf.placeholder 'activation'>, 'type_layers': <pf.placeholder 'type_layers'>, 'epochs': <pf.placeholder 'epochs'>, 'batch_size': <pf.placeholder 'batch_size'>, '46065a37df4b4915a5eeb90fb8960ecd': <pf.func_op '46065a37df4b4915a5eeb90fb8960ecd' target=<function Input at 0x7f2ad5afc9e0> args=<1 items> kwargs=<0 items>>, 'model': <pf.func_op 'model' target=<class 'keras.engine.sequential.Sequential'> args=<1 items> kwargs=<0 items>>, 'd182e9f85ff647d4893d12df272beb15': <__main__.AddLayerOperation object at 0x7f2ac92a7810>, '804045c6ee5146a68d1a9ed82fe61171': <__main__.AddLayerOperation object at 0x7f2ac92a78d0>, '67dbb624568841f4a49431d90650ea66': <__main__.AddLayerOperation object at 0x7f2ac92a7990>, 'CompileOperation1': <__main__.CompileOperation object at 0x7f2ac92a7a50>, 'a2e49d53fc7f47478471e540317166ab': <pf.func_op 'a2e49d53fc7f47478471e540317166ab' target=<built-in method rand of numpy.random.mtrand.RandomState object at 0x7f2acf08f9e0> args=<2 items> kwargs=<0 items>>, '4c574c6516754a358c95a38232faa4ea': <pf.func_op '4c574c6516754a358c95a38232faa4ea' target=<built-in method rand of numpy.random.mtrand.RandomState object at 0x7f2acf08f9e0> args=<2 items> kwargs=<0 items>>, 'TrainModel': <__main__.TrainOperation object at 0x7f2acf00fc90>}\n",
            "[]\n"
          ]
        }
      ]
    },
    {
      "cell_type": "code",
      "source": [
        "import threading\n",
        "import time\n",
        "import sys\n",
        "import trace\n",
        "import threading\n",
        "import time\n",
        "class thread_with_trace(threading.Thread):\n",
        "  def __init__(self, *args, **keywords):\n",
        "    threading.Thread.__init__(self, *args, **keywords)\n",
        "    self.killed = False\n",
        " \n",
        "  def start(self):\n",
        "    self.__run_backup = self.run\n",
        "    self.run = self.__run     \n",
        "    threading.Thread.start(self)\n",
        " \n",
        "  def __run(self):\n",
        "    sys.settrace(self.globaltrace)\n",
        "    self.__run_backup()\n",
        "    self.run = self.__run_backup\n",
        " \n",
        "  def globaltrace(self, frame, event, arg):\n",
        "    if event == 'call':\n",
        "      return self.localtrace\n",
        "    else:\n",
        "      return None\n",
        " \n",
        "  def localtrace(self, frame, event, arg):\n",
        "    if self.killed:\n",
        "      if event == 'line':\n",
        "        raise SystemExit()\n",
        "    return self.localtrace\n",
        " \n",
        "  def kill(self):\n",
        "    self.killed = True\n",
        "\n",
        "print(threading.active_count())\n",
        "th = thread_with_trace(target=crete_graph, args=[10,'relu', 'Dense', 5, 16, 10])\n",
        "th.start()\n",
        "print(threading.active_count())\n",
        "time.sleep(10)\n",
        "th.kill()\n",
        "th.join()\n",
        "print('\\n', threading.active_count())"
      ],
      "metadata": {
        "colab": {
          "base_uri": "https://localhost:8080/"
        },
        "id": "HDHr-q5oGuf0",
        "outputId": "66b8d013-792f-4cff-c84b-0b84b4397298"
      },
      "execution_count": 10,
      "outputs": [
        {
          "output_type": "stream",
          "name": "stdout",
          "text": [
            "10\n",
            "11\n"
          ]
        },
        {
          "output_type": "stream",
          "name": "stderr",
          "text": [
            "\n",
            "PYDEV DEBUGGER WARNING:\n",
            "sys.settrace() should not be used when the debugger is being used.\n",
            "This may cause the debugger to stop working correctly.\n",
            "If this is needed, please check: \n",
            "http://pydev.blogspot.com/2007/06/why-cant-pydev-debugger-work-with.html\n",
            "to see how to restore the debug tracing back correctly.\n",
            "Call Location:\n",
            "  File \"<ipython-input-10-75e4538b2b82>\", line 18, in __run\n",
            "    sys.settrace(self.globaltrace)\n",
            "\n",
            "Exception in thread Thread-11:\n",
            "Traceback (most recent call last):\n",
            "  File \"/usr/lib/python3.7/threading.py\", line 926, in _bootstrap_inner\n",
            "    self.run()\n",
            "  File \"<ipython-input-10-75e4538b2b82>\", line 19, in __run\n",
            "    self.__run_backup()\n",
            "  File \"/usr/lib/python3.7/threading.py\", line 870, in run\n",
            "    self._target(*self._args, **self._kwargs)\n",
            "TypeError: crete_graph() takes from 0 to 5 positional arguments but 6 were given\n",
            "\n"
          ]
        },
        {
          "output_type": "stream",
          "name": "stdout",
          "text": [
            "\n",
            " 10\n"
          ]
        }
      ]
    }
  ]
}