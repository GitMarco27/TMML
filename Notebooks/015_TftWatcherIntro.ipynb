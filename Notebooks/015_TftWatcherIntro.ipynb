{
 "cells": [
  {
   "cell_type": "code",
   "execution_count": null,
   "metadata": {},
   "outputs": [],
   "source": [
    "from riotwatcher import TftWatcher\n",
    "import pandas as pd\n",
    "import plotly.graph_objects as go\n",
    "import numpy as np"
   ]
  },
  {
   "cell_type": "code",
   "execution_count": null,
   "metadata": {},
   "outputs": [],
   "source": [
    "api_key = ''\n",
    "watcher = TftWatcher(api_key)\n",
    "my_region = 'euw1'\n",
    "summoner_name = ''\n",
    "\n",
    "me = watcher.summoner.by_name(my_region, summoner_name)"
   ]
  },
  {
   "cell_type": "code",
   "execution_count": null,
   "metadata": {},
   "outputs": [],
   "source": [
    "for key in me:\n",
    "    print(key, ':', me[key])"
   ]
  },
  {
   "cell_type": "code",
   "execution_count": null,
   "metadata": {},
   "outputs": [],
   "source": [
    "matches_ids = watcher.match.by_puuid(my_region, me['puuid'], count=20)\n",
    "matches = [watcher.match.by_id(my_region, item) for item in matches_ids]"
   ]
  },
  {
   "cell_type": "code",
   "execution_count": null,
   "metadata": {},
   "outputs": [],
   "source": [
    "matches[0].keys()"
   ]
  },
  {
   "cell_type": "code",
   "execution_count": null,
   "metadata": {},
   "outputs": [],
   "source": [
    "matches[0]['metadata']"
   ]
  },
  {
   "cell_type": "code",
   "execution_count": null,
   "metadata": {},
   "outputs": [],
   "source": [
    "matches[0]['info'].keys()"
   ]
  },
  {
   "cell_type": "code",
   "execution_count": null,
   "metadata": {},
   "outputs": [],
   "source": [
    "my_match_data = matches[0]['info']['participants'][matches[0]['metadata']['participants'].index(me['puuid'])]\n",
    "my_match_data.keys()"
   ]
  },
  {
   "cell_type": "code",
   "execution_count": null,
   "metadata": {},
   "outputs": [],
   "source": [
    "my_match_data['augments']"
   ]
  },
  {
   "cell_type": "code",
   "execution_count": null,
   "metadata": {},
   "outputs": [],
   "source": [
    "my_match_data['placement']"
   ]
  },
  {
   "cell_type": "code",
   "execution_count": null,
   "metadata": {},
   "outputs": [],
   "source": [
    "my_match_data['units'][:2]"
   ]
  },
  {
   "cell_type": "code",
   "execution_count": null,
   "metadata": {},
   "outputs": [],
   "source": [
    "import json\n",
    "with open('units.json', 'w') as file:\n",
    "    json.dump(my_match_data['units'], file, indent=4)"
   ]
  },
  {
   "cell_type": "code",
   "execution_count": null,
   "metadata": {},
   "outputs": [],
   "source": [
    "from __future__ import annotations\n",
    "\n",
    "def get_placement_trend(matches: list | np.ndarray) -> np.ndarray:\n",
    "    \"\"\"\n",
    "    :param matches: list of matches\n",
    "    :return np.ndarray placement_trend:\n",
    "    \"\"\"\n",
    "\n",
    "    placement_trend = []\n",
    "    for match in matches:\n",
    "        my_match_data = match['info']['participants'][match['metadata']['participants'].index(me['puuid'])]\n",
    "        placement_trend.append(int(my_match_data['placement']))\n",
    "    \n",
    "    return np.array(placement_trend, dtype=np.int32)"
   ]
  },
  {
   "cell_type": "code",
   "execution_count": null,
   "metadata": {},
   "outputs": [],
   "source": [
    "placements = get_placement_trend(matches=matches)\n",
    "x = np.arange(len(placements))\n",
    "\n",
    "fig = go.Figure()\n",
    "\n",
    "fig.add_trace(go.Scatter(\n",
    "    x=x, y=placements,\n",
    "    name='sin',\n",
    "    mode='markers',\n",
    "    marker_color=placements\n",
    "))\n",
    "\n",
    "\n",
    "fig.update_traces(mode='markers', marker_line_width=2, marker_size=10)\n",
    "fig.update_layout(title='Positioning trend', width=800)\n"
   ]
  },
  {
   "cell_type": "code",
   "execution_count": null,
   "metadata": {},
   "outputs": [],
   "source": []
  }
 ],
 "metadata": {
  "kernelspec": {
   "display_name": "Python 3.9.15 ('python39')",
   "language": "python",
   "name": "python3"
  },
  "language_info": {
   "codemirror_mode": {
    "name": "ipython",
    "version": 3
   },
   "file_extension": ".py",
   "mimetype": "text/x-python",
   "name": "python",
   "nbconvert_exporter": "python",
   "pygments_lexer": "ipython3",
   "version": "3.9.15"
  },
  "orig_nbformat": 4,
  "vscode": {
   "interpreter": {
    "hash": "b1d11ed72a501dea5550e0551559d0470927893b027dce83f7e5d2ff4d36c615"
   }
  }
 },
 "nbformat": 4,
 "nbformat_minor": 2
}
